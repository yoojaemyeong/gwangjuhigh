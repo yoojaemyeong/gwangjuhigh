{
 "cells": [
  {
   "cell_type": "markdown",
   "id": "c01d6670-cecd-41c4-b1a2-934819736796",
   "metadata": {},
   "source": [
    "## 변수\n",
    "- 값을 저장하rh 언제든지 참조할 수 잇는 메모리 공간\n",
    "- 어떠한 값을 담는 '상자'라 할 수 있다. \n",
    "- 파이썬은 변수 이름 규칙에 따라 변수 이름을 생성하며, 변수 유형을 정하는 예약어가 없다\n",
    "- 변수 선언 시점에서, 값에 따라 변수의 형태가 결정됨"
   ]
  },
  {
   "cell_type": "code",
   "execution_count": null,
   "id": "5ea6664a-2f2c-49bd-a020-de8f3a36bdd4",
   "metadata": {},
   "outputs": [],
   "source": [
    "# 한 번 쓰고 사라지는 값\n",
    "print(100 + 200)"
   ]
  },
  {
   "cell_type": "code",
   "execution_count": null,
   "id": "0fb3382c-86b0-4419-b563-1a6a62f17a18",
   "metadata": {},
   "outputs": [],
   "source": [
    "# 변수 a,b 선언하고 '=' 대입연산자를 이용하여 값을 할당\n",
    "a=100\n",
    "b=200\n",
    "print(a+b)"
   ]
  },
  {
   "cell_type": "code",
   "execution_count": null,
   "id": "39f5e2fc-35ea-4961-8f31-ee3ab607594a",
   "metadata": {},
   "outputs": [],
   "source": [
    "print(2*a+3*b)"
   ]
  },
  {
   "cell_type": "markdown",
   "id": "48ebd50d-f1d1-4880-8a15-7557d9c78b88",
   "metadata": {},
   "source": [
    "## 변수 이름 생성 규칙\n",
    "1. <font color=red><b>_</b></font> 혹은 <font color=red><b>영문자(<font color=blue>대,소문자 구분</font>)</b></font>로 <font color=red><b>시작</b></font>해야 함\n",
    "2. <font color=blue><b>숫자</b></font>로 <font color=red><b>시작하면 안됨</b></font>\n",
    "3. <font color=blue><b>공백을 포함해서는 안됨</b></font>\n",
    "4. 가급적 알파벳을 활용하여 유의미한 이름을 사용하도록 권장\n",
    "5. <font color=blue><b>예약어(키워드)를 사용하면 안됨</b></font>"
   ]
  },
  {
   "cell_type": "code",
   "execution_count": null,
   "id": "69c6060a-7ba9-4b0d-80d9-43f85d17870c",
   "metadata": {},
   "outputs": [],
   "source": [
    "a = 123\n",
    "_b = 456\n",
    "str = \"안녕하세요\""
   ]
  },
  {
   "cell_type": "code",
   "execution_count": null,
   "id": "c63155b5-dd8c-4048-aaaf-9b84ee662683",
   "metadata": {},
   "outputs": [],
   "source": [
    "if = 100"
   ]
  },
  {
   "cell_type": "code",
   "execution_count": null,
   "id": "149c1bf5-ec0d-4931-82b0-92ef3075a233",
   "metadata": {},
   "outputs": [],
   "source": [
    "a = 100\n",
    "type(a)"
   ]
  },
  {
   "cell_type": "code",
   "execution_count": null,
   "id": "59f6f76a-e4c4-44f0-844b-5b2e24dcef64",
   "metadata": {},
   "outputs": [],
   "source": [
    "a = '안녕, 파이썬'\n",
    "type(a)"
   ]
  },
  {
   "cell_type": "code",
   "execution_count": null,
   "id": "12d65f73-afe4-427f-b6d2-d81b338f6081",
   "metadata": {},
   "outputs": [],
   "source": [
    "a = 3.14\n",
    "type(a)"
   ]
  },
  {
   "cell_type": "code",
   "execution_count": null,
   "id": "305815a6-ba22-4bd3-a0b2-a7ba5a17bd95",
   "metadata": {},
   "outputs": [],
   "source": [
    "a = True\n",
    "type(a)"
   ]
  },
  {
   "cell_type": "markdown",
   "id": "0e59be4b-d809-4907-9f02-9eeeb83ea3f7",
   "metadata": {},
   "source": [
    "## 주피터노트북 출력에서 소수점 이하 제한 방법\n",
    "> 소수점이하 3자리로 제한  \n",
    "> %precision 3"
   ]
  },
  {
   "cell_type": "code",
   "execution_count": null,
   "id": "35066b25-1c61-454c-bd08-bb7275bede39",
   "metadata": {},
   "outputs": [],
   "source": [
    "1/3"
   ]
  },
  {
   "cell_type": "code",
   "execution_count": null,
   "id": "cb8fda88-e449-45ea-a559-63f13528dc42",
   "metadata": {},
   "outputs": [],
   "source": [
    "%precision 3\n",
    "1/3"
   ]
  },
  {
   "cell_type": "markdown",
   "id": "2cabddd3-2c20-418d-99f6-6bda187529fe",
   "metadata": {},
   "source": [
    "## 기본 자료형(숫자형)\n",
    "\n",
    "<span style=\"display: inline-block;text-align:left;font-size:20px;margin-left:5em;\">  \n",
    "\n",
    "종류 | 형식 | 파이썬 코드 \n",
    "--- | --- | --- \n",
    "정수 | 123<br>-123<br> 0 | a = 123<br>b = -123<br>c = 0 \n",
    "--- | --- | --- \n",
    "실수 | 12.3<br>-1.23<br> 2.3e5<br>3.4E-6 | a = 12.3<br>b = -1.23 \n",
    "--- | --- | --- \n",
    "복소수 | 1+2j<br>-3j | a = 1 + 2j<br>a.real<br>1.000<br>a.imag<br>2.000 \n",
    "--- | --- | --- \n",
    "8진수 | 0o12<br>0o34 <br>숫자 0 영문자 o(octet)  | a = 0o12<br>a<br>10 \n",
    "--- | --- | --- \n",
    "16진수 | 0x12A<br>0X3fc | a = 0x12A<br>a<br>298 \n",
    "--- | --- | --- \n",
    "논리형 | True<br>False | a = True<br>a<br>1   \n",
    "\n",
    "\n",
    "</span>\n"
   ]
  },
  {
   "cell_type": "code",
   "execution_count": null,
   "id": "2e9e27cd-c42c-445d-99c2-702ec992b56a",
   "metadata": {},
   "outputs": [],
   "source": [
    "a=1+2j\n",
    "a.real"
   ]
  },
  {
   "cell_type": "code",
   "execution_count": null,
   "id": "a474ebb3-04c6-447e-99e9-8d82004c97a5",
   "metadata": {},
   "outputs": [],
   "source": [
    "a.imag"
   ]
  },
  {
   "cell_type": "markdown",
   "id": "14d02929-4a78-48c2-b3a9-a857a83de738",
   "metadata": {},
   "source": [
    "## 숫자 자료형 연산 : +, -, *, /, %, //"
   ]
  },
  {
   "cell_type": "code",
   "execution_count": null,
   "id": "3b542cda-0e53-462d-9cf0-3de96358e408",
   "metadata": {},
   "outputs": [],
   "source": [
    "#더하기(+), 빼기(-), 곱하기(*), 나누기(/)\n",
    "a = 3\n",
    "b = 4\n",
    "print(\"a + b = \",a+b)\n",
    "print(\"a - b = \",a-b)\n",
    "print(\"a * b = \",a*b)\n",
    "print(\"a / b = \",a/b)"
   ]
  },
  {
   "cell_type": "code",
   "execution_count": null,
   "id": "2b46b0fd-bb35-455c-be7a-83116bdfbce8",
   "metadata": {},
   "outputs": [],
   "source": [
    "# 나머지(%), 몫(//)\n",
    "print(\"a % b = \",a%b)\n",
    "print(\"a // b = \", a//b)\n",
    "print(\"7 // 3 = \", 7//3)"
   ]
  },
  {
   "cell_type": "code",
   "execution_count": null,
   "id": "2edd8b7c-fa96-48fa-9b0b-e5881038caef",
   "metadata": {},
   "outputs": [],
   "source": [
    "# 간단한 사칙연산 계산기 만들기\n",
    "# 1. 두 변수 준비하고 숫자 대입\n",
    "num1 = 100\n",
    "num2 = 200"
   ]
  },
  {
   "cell_type": "code",
   "execution_count": null,
   "id": "f20cbe70-6002-4eae-b4ef-9944fea88b5d",
   "metadata": {},
   "outputs": [],
   "source": [
    "# 2. 두 수를 사용하여 사칙 연산하는 코드 완성하기\n",
    "# 더하기\n",
    "print(num1,' + ', num2, ' = ', num1 + num2)\n",
    "# 빼기\n",
    "\n",
    "# 곱하기\n",
    "\n",
    "# 나누기\n"
   ]
  },
  {
   "cell_type": "code",
   "execution_count": null,
   "id": "e8ad8e70-4695-4f7a-b75d-70b69ac13fd9",
   "metadata": {},
   "outputs": [],
   "source": [
    "# 3. 제곱 연산자\n",
    "num = 5 ** 3\n",
    "print(num)"
   ]
  },
  {
   "cell_type": "code",
   "execution_count": null,
   "id": "2d90a946-0f8a-4d57-b7a6-ecf9b8c26d41",
   "metadata": {},
   "outputs": [],
   "source": [
    "# 4. 복합 대입 연산자\n",
    "num = 20\n",
    "num += 3   # num = num + 3\n",
    "print(num)\n",
    "num -= 3   # num = num - 3\n",
    "print(num)\n",
    "num *= 3   # num = num * 3\n",
    "print(num)\n",
    "num /= 3   # num = num / 3\n",
    "print(num)\n",
    "num //= 3  # num = num // 3 \n",
    "print(num)\n",
    "num %= 3   # num = num % 3\n",
    "print(num)\n",
    "num **= 3  # num = num ** 3\n",
    "print(num)"
   ]
  },
  {
   "cell_type": "code",
   "execution_count": null,
   "id": "18132cd8-9b35-4149-9064-f1bd6da51fd9",
   "metadata": {},
   "outputs": [],
   "source": [
    "# 5. 비교 연산자\n",
    "n1 = 100\n",
    "n2 = 200\n",
    "print(n1 == n2 , n1 != n2)\n",
    "\n",
    "print(n1 > n2 , n1 < n2)\n",
    "\n",
    "print(n1 >= n2 , n1 <= n1)\n"
   ]
  },
  {
   "cell_type": "code",
   "execution_count": null,
   "id": "d675b423-d9d9-41f6-ac35-db50e174e0ef",
   "metadata": {},
   "outputs": [],
   "source": [
    "# 6. 논리연산자\n",
    "num = 99\n",
    "(num > 100) and (num < 200)"
   ]
  },
  {
   "cell_type": "code",
   "execution_count": null,
   "id": "50c82ba0-a418-4874-be56-2d29936eda75",
   "metadata": {},
   "outputs": [],
   "source": [
    "(num == 99) or (num == 100)"
   ]
  },
  {
   "cell_type": "code",
   "execution_count": null,
   "id": "b0f0144b-4bf4-4148-890e-e286232cc887",
   "metadata": {},
   "outputs": [],
   "source": [
    "not(num == 100)"
   ]
  },
  {
   "cell_type": "markdown",
   "id": "923ac9e9-a0a0-4dca-9d0a-215005b83dc7",
   "metadata": {},
   "source": [
    "## 값을 입력받는 함수 : input()\n",
    "  \n",
    "<span style=\"font-size:17px;\"> \n",
    "    \n",
    "위 사칙연산 계산기에서 두 숫자 값을 입력받아 사칙연산하는 코드 완성하기</span>"
   ]
  },
  {
   "cell_type": "code",
   "execution_count": null,
   "id": "aab8677c-5c29-4dba-b223-39243340a5c2",
   "metadata": {},
   "outputs": [],
   "source": []
  },
  {
   "cell_type": "code",
   "execution_count": null,
   "id": "be1c999b-b5fe-47ad-9946-899ef2d9aa10",
   "metadata": {},
   "outputs": [],
   "source": [
    "# 1. 두 변수에 키보드를 이용하여 임의의 숫자 대임\n",
    "num1 = input('첫 번째 숫자값 입력:')\n",
    "print('첫 번째 입력값',num1)\n",
    "num2 = input('두 번째 숫자값 입력:')\n",
    "print('두 번째 입력값',num2)\n",
    "print('num1 + num2 = ',num1+num2)"
   ]
  },
  {
   "cell_type": "code",
   "execution_count": null,
   "id": "f3ef2076-c36e-46b6-85bb-22eab7508022",
   "metadata": {},
   "outputs": [],
   "source": [
    "# 1-1. 두 변수에 키보드를 이용하여 임의의 숫자 대임 : 문자열 -> 숫자 : int(문자열)\n",
    "num1 = int(input('첫 번째 숫자값 입력:'))\n",
    "print('첫 번째 입력값',num1)\n",
    "num2 = int(input('두 번째 숫자값 입력:'))\n",
    "print('두 번째 입력값',num2)\n",
    "print('num1 + num2 = ',num1+num2)"
   ]
  },
  {
   "cell_type": "code",
   "execution_count": null,
   "id": "a37498a4-ee21-4944-b302-3b26b7d62366",
   "metadata": {},
   "outputs": [],
   "source": [
    "# 2. 두 수를 사용하여 사칙 연산하는 코드 완성하기\n",
    "# 더하기\n",
    "\n",
    "# 빼기\n",
    "\n",
    "# 곱하기\n",
    "\n",
    "# 나누기\n"
   ]
  },
  {
   "attachments": {
    "30d6fefa-a83f-4b73-b907-b0b743a46cbc.png": {
     "image/png": "[encoded data removed]"
    },
    "412f7d10-733f-4d7e-9982-e8672de1e3b8.png": {
     "image/png": "[encoded data removed]"
    }
   },
   "cell_type": "markdown",
   "id": "fd6f3951-7119-4d41-bd78-fd7b2070401d",
   "metadata": {},
   "source": [
    "## 이름, 주소, 전화번호, 좋아하는 숫자를 입력받아 출력하는 프로그램 작성하기\n",
    "\n",
    "### 입력형태\n",
    "예시)  \n",
    "![image.png](attachment:412f7d10-733f-4d7e-9982-e8672de1e3b8.png)  \n",
    "\n",
    "### 출력형태\n",
    "예시)  \n",
    "![image.png](attachment:30d6fefa-a83f-4b73-b907-b0b743a46cbc.png)  "
   ]
  },
  {
   "cell_type": "code",
   "execution_count": null,
   "id": "2dd85455-2e8b-4ec9-a3fe-aaec9f8d9ef6",
   "metadata": {},
   "outputs": [],
   "source": [
    "#프로그램 코드 생성 및 실행\n",
    "name=input('이름은? ')\n",
    "address=input('주소는? ')\n",
    "phone=input('전화번호(###-####-####)는? ')\n",
    "number=input('좋아하는 숫자는? ')\n",
    "print('===== 결과 =====')\n",
    "print(\"이름: \",name)\n",
    "print(\"전화번호: \", phone)\n",
    "print(\"주소: \",address)\n",
    "print(\"좋아하는 숫자: \",number)\n",
    "print(\"================\")"
   ]
  },
  {
   "attachments": {
    "bf48b4b3-a419-4d11-a154-0dbb5c1915c3.png": {
     "image/png": "[encoded data removed]"
    }
   },
   "cell_type": "markdown",
   "id": "ce2042a6-ce2c-4d23-8f97-3418d704d124",
   "metadata": {},
   "source": [
    "# 거북이가 나오는 프로그램\n",
    "\n",
    "![image.png](attachment:bf48b4b3-a419-4d11-a154-0dbb5c1915c3.png) "
   ]
  },
  {
   "cell_type": "code",
   "execution_count": null,
   "id": "d593d4f2-f3fc-4c8c-9500-432d57a7c120",
   "metadata": {
    "tags": []
   },
   "outputs": [],
   "source": [
    "#거북이가 나오는 코드\n",
    "import turtle\n",
    "turtle.shape('turtle')"
   ]
  },
  {
   "cell_type": "code",
   "execution_count": null,
   "id": "984641fb-a365-4c5c-b622-e0798dfb0950",
   "metadata": {
    "tags": []
   },
   "outputs": [],
   "source": [
    "#거북이 이동\n",
    "turtle.forward(200)\n",
    "#거북이 좌회전\n",
    "turtle.left(90)\n",
    "#거북이 우회전\n",
    "turtle.right(90)"
   ]
  },
  {
   "cell_type": "code",
   "execution_count": null,
   "id": "3a3248cf-815e-4286-841e-0c547e7422c7",
   "metadata": {
    "tags": []
   },
   "outputs": [],
   "source": [
    "#거북이 사각형 그리기\n",
    "turtle.forward(200)\n",
    "turtle.left(90)\n",
    "turtle.forward(200)\n",
    "turtle.left(90)\n",
    "turtle.forward(200)\n",
    "turtle.left(90)\n",
    "turtle.forward(200)\n",
    "turtle.left(90)"
   ]
  },
  {
   "cell_type": "code",
   "execution_count": null,
   "id": "5936e3a6-d556-43e1-9dc8-a5face935b11",
   "metadata": {
    "tags": []
   },
   "outputs": [],
   "source": [
    "#선을 긋지 않고 이동하기\n",
    "turtle.penup()\n",
    "turtle.right(90)\n",
    "turtle.forward(100)\n",
    "turtle.left(90)\n",
    "#다시 선 긋기 시작\n",
    "turtle.pendown()\n",
    "turtle.forward(100)"
   ]
  },
  {
   "cell_type": "code",
   "execution_count": null,
   "id": "71cc50da-f211-4dcb-8ab5-9cf8dee0677b",
   "metadata": {
    "tags": []
   },
   "outputs": [],
   "source": [
    "#펜 색 설정\n",
    "turtle.pencolor('red')\n",
    "#펜 두께 설정\n",
    "turtle.pensize(5)\n",
    "\n",
    "turtle.forward(100)"
   ]
  },
  {
   "cell_type": "code",
   "execution_count": 14,
   "id": "7b293899-fe19-4277-828f-214d46ce00d9",
   "metadata": {
    "tags": []
   },
   "outputs": [],
   "source": [
    "# 프로그램 창 바로 닫기\n",
    "turtle.bye()\n",
    "\n",
    "#(참고)\n",
    "#프로그램 창 클릭하면 닫기\n",
    "#turtle.exitonclick()\n",
    "\n",
    "#프로그램 창을 닫지않고 다음 명령어 대기\n",
    "#turtle.done() # 또는 turtle.mainloop()\n",
    "\n",
    "#프로그램 중 그렸던 모든 것 삭제\n",
    "#turtle.clear()\n",
    "\n",
    "#프로그램 중 환경설정한 것 초기화\n",
    "#turtle.reset()"
   ]
  },
  {
   "attachments": {
    "217a9750-4c8b-4959-b08d-1829faf8baa5.png": {
     "image/png": "[encoded data removed]"
    }
   },
   "cell_type": "markdown",
   "id": "e331c035-cdd1-4dc2-b613-acf550bb7bb8",
   "metadata": {},
   "source": [
    "# 문제 : 거북이가 출발하여 파란색 정6각형(한변의 길이가 70)을 4개 그리는 프로그램을 만들어라\n",
    "* 출발위치: \n",
    "  > 첫번째 출발: (-120, 150)  \n",
    "  > 두번째 출발: (60, 150)  \n",
    "  > 세번째 출발: (60, -20)  \n",
    "  > 네번째 출발: (-120, -20)  \n",
    "* 선그리기 취소: turtle.penup()\n",
    "* 이동: turtle.goto(x,y)\n",
    "* 선그리기: turtle.pendown()\n",
    "  \n",
    "![image.png](attachment:217a9750-4c8b-4959-b08d-1829faf8baa5.png)    \n"
   ]
  },
  {
   "cell_type": "code",
   "execution_count": 1,
   "id": "dd2b13a9-0798-43cc-859a-41a38c3b2647",
   "metadata": {},
   "outputs": [],
   "source": [
    "# 6각형 그리기\n",
    "import turtle\n",
    "turtle.shape('turtle')"
   ]
  },
  {
   "cell_type": "code",
   "execution_count": 2,
   "id": "63a35737-8b7e-4030-9b33-6a60ecabdfd3",
   "metadata": {},
   "outputs": [],
   "source": [
    "# 첫번째 6각형 그리기\n",
    "turtle.penup()\n",
    "turtle.goto(-120,150)\n",
    "turtle.pendown()\n",
    "for i in range(6):\n",
    "    turtle.forward(70)\n",
    "    turtle.right(60)    "
   ]
  },
  {
   "cell_type": "code",
   "execution_count": 3,
   "id": "7a7bd0a7-d3c1-44a5-a624-b6aaeabb4e49",
   "metadata": {},
   "outputs": [],
   "source": [
    "# 두번째 6각형 그리기\n",
    "turtle.penup()\n",
    "turtle.goto(60,150)\n",
    "turtle.pendown()\n",
    "for i in range(6):\n",
    "    turtle.forward(70)\n",
    "    turtle.right(60)"
   ]
  },
  {
   "cell_type": "code",
   "execution_count": 4,
   "id": "6216d17e-2b95-4a17-b8bc-31ea46c0eeca",
   "metadata": {},
   "outputs": [],
   "source": [
    "# 세번째 6각형 그리기\n",
    "turtle.penup()\n",
    "turtle.goto(60,-20)\n",
    "turtle.pendown()\n",
    "for i in range(6):\n",
    "    turtle.forward(70)\n",
    "    turtle.right(60)"
   ]
  },
  {
   "cell_type": "code",
   "execution_count": 5,
   "id": "c9eb8491-7c5f-46ec-8dad-761437460e7b",
   "metadata": {},
   "outputs": [],
   "source": [
    "# 네번째 6각형 그리기\n",
    "turtle.penup()\n",
    "turtle.goto(-120,-20)\n",
    "turtle.pendown()\n",
    "for i in range(6):\n",
    "    turtle.forward(70)\n",
    "    turtle.right(60)    "
   ]
  },
  {
   "cell_type": "code",
   "execution_count": 6,
   "id": "7059a7d9-7a95-4ec5-8c5c-2d1c4bddc6c9",
   "metadata": {},
   "outputs": [],
   "source": [
    "# 종료\n",
    "turtle.exitonclick()    "
   ]
  },
  {
   "cell_type": "code",
   "execution_count": null,
   "id": "5d0d4c20-9d2c-499d-a352-1c75af60cf58",
   "metadata": {},
   "outputs": [],
   "source": []
  }
 ],
 "metadata": {
  "kernelspec": {
   "display_name": "Python 3 (ipykernel)",
   "language": "python",
   "name": "python3"
  },
  "language_info": {
   "codemirror_mode": {
    "name": "ipython",
    "version": 3
   },
   "file_extension": ".py",
   "mimetype": "text/x-python",
   "name": "python",
   "nbconvert_exporter": "python",
   "pygments_lexer": "ipython3",
   "version": "3.9.2rc1"
  }
 },
 "nbformat": 4,
 "nbformat_minor": 5
}
