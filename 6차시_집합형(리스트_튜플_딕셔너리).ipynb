{
 "cells": [
  {
   "cell_type": "markdown",
   "id": "2cabddd3-2c20-418d-99f6-6bda187529fe",
   "metadata": {},
   "source": [
    "## 리스트(list)\n",
    "* []안에 원소를 순서대로 나열한 그룹 자료형\n",
    "* 관련함수: del, append, sort, reverse, index, insert, remove, pop, count 등"
   ]
  },
  {
   "cell_type": "code",
   "execution_count": null,
   "id": "3bd0f032-058e-4ec0-a173-78862991318b",
   "metadata": {},
   "outputs": [],
   "source": [
    "# 리스트 생성 및 다양한 출력\n",
    "list1 = [1,2,3]\n",
    "list2 = ['Life', 'is', 'too', 'short']\n",
    "list3 = [3,4,'Life', 'is']\n",
    "list4 = [[1,2],3,4,['too','short']]\n",
    "print(list2[0])\n",
    "print(list4[0])\n",
    "print(list1+list2) #2개의 리스트 출력\n",
    "print(list1*3) #반복 출력"
   ]
  },
  {
   "cell_type": "code",
   "execution_count": null,
   "id": "aa9ff9a3-45f4-442e-821d-7aac0d80718b",
   "metadata": {},
   "outputs": [],
   "source": [
    "#코드실행\n"
   ]
  },
  {
   "cell_type": "code",
   "execution_count": null,
   "id": "2edd8b7c-fa96-48fa-9b0b-e5881038caef",
   "metadata": {},
   "outputs": [],
   "source": [
    "# 리스트 수정\n",
    "list1 = [ 1, 2, 3]\n",
    "list1[1] = 9\n",
    "print(list1)\n",
    "\n",
    "# 원소의 값 대치\n",
    "list1[1:2]= ['a','b','c'] \n",
    "print(list1)\n",
    "\n",
    "# 마지막 원소의 값 수정\n",
    "list1[-1] = ['x','y','z'] \n",
    "print(list1)\n",
    "del list1[-1]  #마지막 원소 삭제 del\n",
    "print(list1)\n",
    "\n",
    "# 원소 추가 \n",
    "list1.append(15) \n",
    "print(list1)"
   ]
  },
  {
   "cell_type": "code",
   "execution_count": null,
   "id": "8308bd27-47de-4fe4-85ed-30704fc53832",
   "metadata": {},
   "outputs": [],
   "source": [
    "#코드실행 \n"
   ]
  },
  {
   "cell_type": "code",
   "execution_count": null,
   "id": "5ed771cb-e531-4070-ac7d-4bc4ad0a99e9",
   "metadata": {},
   "outputs": [],
   "source": [
    "#원소 정렬 sort\n",
    "print(list2)\n",
    "list2.sort() \n",
    "print(list2)\n",
    "\n",
    "#원소 뒤집기\n",
    "list2.reverse() \n",
    "print(list2)"
   ]
  },
  {
   "cell_type": "code",
   "execution_count": null,
   "id": "7fa72272-3330-4c6d-ac47-0b38b9c99dbf",
   "metadata": {},
   "outputs": [],
   "source": [
    "#코드실행\n"
   ]
  },
  {
   "cell_type": "code",
   "execution_count": null,
   "id": "49263952-3075-4b0f-a1f4-163eb85a770a",
   "metadata": {},
   "outputs": [],
   "source": [
    "#원소 위치 확인\n",
    "print(list2)\n",
    "print(list2.index('is')) \n",
    "\n",
    "#원소를 지정한 위치에 삽입\n",
    "list2.insert(0,'* ')\n",
    "print(list2)\n",
    "\n",
    "# 마지막 원소 삭제 pop\n",
    "print(list2.pop()) \n",
    "print(list2)\n",
    "\n",
    "# is 원소 삭제 remove\n",
    "list2.remove('is') \n",
    "print(list2)"
   ]
  },
  {
   "cell_type": "code",
   "execution_count": null,
   "id": "e56ce259-a15f-48e0-b93f-d4a1fb9a6fac",
   "metadata": {},
   "outputs": [],
   "source": [
    "#코드실행\n"
   ]
  },
  {
   "cell_type": "code",
   "execution_count": null,
   "id": "8afb3fc0-6a18-457c-b4bd-23cc0c7b1c04",
   "metadata": {},
   "outputs": [],
   "source": [
    "# 지정한 원소값 개수 count\n",
    "list5 = [2,3,1,5,3,2,1,7,8]\n",
    "print(list5.count(2)) "
   ]
  },
  {
   "cell_type": "code",
   "execution_count": null,
   "id": "55d316e9-79d9-439b-9074-cd38433aae64",
   "metadata": {},
   "outputs": [],
   "source": [
    "# 콜론(:)을 사용하여 범위 지정\n",
    "numList = [10, 20, 30, 40]\n",
    "print(numList[0:3])\n",
    "print(numList[2:4])\n",
    "print(numList[2:])\n",
    "print(numList[:2])"
   ]
  },
  {
   "cell_type": "code",
   "execution_count": null,
   "id": "f6d16a2a-67f0-4957-9f29-3b6287b25a4b",
   "metadata": {},
   "outputs": [],
   "source": [
    "# 리스트 연산\n",
    "numList = [10, 20, 30]\n",
    "myList = [40, 50, 60]\n",
    "print(numList + myList)\n",
    "print(numList * 3)"
   ]
  },
  {
   "cell_type": "code",
   "execution_count": null,
   "id": "447910f8-4de9-481c-bc4c-842feea10728",
   "metadata": {},
   "outputs": [],
   "source": [
    "# 리스트 정렬(오름차순)\n",
    "numList = [20, 10, 40, 50, 30]\n",
    "numList.sort()\n",
    "print(numList)\n",
    "\n",
    "# 리스트 정렬(내림차순)\n",
    "numList.sort(reverse=True)\n",
    "print(numList)\n",
    "\n",
    "# 리스트 항목 반전\n",
    "numList = [20, 10, 40, 50, 30]\n",
    "numList.reverse()\n",
    "print(numList)\n",
    "\n",
    "# 리스트 복사\n",
    "numList2 = numList.copy()\n",
    "print(numList2)\n"
   ]
  },
  {
   "cell_type": "code",
   "execution_count": null,
   "id": "4be722eb-c397-4941-858a-9a5a94714f96",
   "metadata": {},
   "outputs": [],
   "source": [
    "# 2차원 리스트 \n",
    "numlist2 = [[1,2,3,4],[5,6,7,8],[9,10,11,12]]\n",
    "for i in range(0,3):\n",
    "    for j in range(0,4):\n",
    "        print(\" \",numlist2[i][j],end='')\n",
    "    print('')"
   ]
  },
  {
   "cell_type": "code",
   "execution_count": null,
   "id": "642ae542-170c-4cac-bb59-1bd4351e1493",
   "metadata": {},
   "outputs": [],
   "source": []
  },
  {
   "cell_type": "markdown",
   "id": "1c874c69",
   "metadata": {},
   "source": [
    "## 튜플(tuple) \n",
    "* ()안에 원소를 순서대로 나열한 그룹 자료형\n",
    "* 튜플이 리스트하고 다른 점은 원소의 값을 변경할 수 없다는 것"
   ]
  },
  {
   "cell_type": "code",
   "execution_count": null,
   "id": "a113142b",
   "metadata": {},
   "outputs": [],
   "source": [
    "# 튜플 생성 형태\n",
    "t1 = (1,)\n",
    "t2 = (1,2,3)\n",
    "t3 = 3,4,'Life', 'is'\n",
    "t4 = ((1,2),3,4,('too','short'))\n",
    "print('튜플 인덱싱(t2[0]): ',t2[0])\n",
    "print('튜플 인덱싱(t4[3][-1]): ',t4[3][-1])\n",
    "print('튜플 슬라이싱(t3[0:3]): ',t3[0:3]) \n",
    "print('튜플 연결(t1+t3): ',t1+t3)           "
   ]
  },
  {
   "cell_type": "code",
   "execution_count": null,
   "id": "0e42226e",
   "metadata": {},
   "outputs": [],
   "source": [
    "# 튜플 연결 : tuple 끼리만 가능\n",
    "#t1 + 'hi'  #  튜플 + 문자열 불가\n",
    "#t1 + 2     #  튜플 + 숫자 불가\n",
    "t1 + t2     # 튜플 + 튜블 가능"
   ]
  },
  {
   "cell_type": "code",
   "execution_count": null,
   "id": "845b640c-32d7-469d-b937-91cd186f2172",
   "metadata": {},
   "outputs": [],
   "source": [
    "# 튜플 반복\n",
    "t2 * 3"
   ]
  },
  {
   "cell_type": "code",
   "execution_count": null,
   "id": "2d8a659c-75c0-459a-9e50-37837dd76c66",
   "metadata": {},
   "outputs": [],
   "source": [
    "# 튜플 수정 불가\n",
    "print(t2[2])\n",
    "t2[2] = 5   # < TypeError: 'tuple' object does not support item assignment"
   ]
  },
  {
   "cell_type": "code",
   "execution_count": null,
   "id": "4941b7ab-fcc1-40be-bf54-7c04cbc3e784",
   "metadata": {},
   "outputs": [],
   "source": [
    "# 읽기전용 튜플 : append(), sort(), reverse() 사용불가\n",
    "numTup1 = (1,)\n",
    "numTup1.append(40)\n",
    "numTup1.reverse()"
   ]
  },
  {
   "cell_type": "code",
   "execution_count": null,
   "id": "d022e82e-0cc1-407f-a333-893feefe39ce",
   "metadata": {},
   "outputs": [],
   "source": [
    "numTup1 = (40,)\n",
    "numTup1[0] = 4  # 수정 불가"
   ]
  },
  {
   "cell_type": "code",
   "execution_count": null,
   "id": "91d995ea-ae44-49b9-a51f-a0269e2967e2",
   "metadata": {},
   "outputs": [],
   "source": [
    "del(numTup1)    # del함수를 이용하여 튜플 삭제"
   ]
  },
  {
   "cell_type": "code",
   "execution_count": null,
   "id": "cb1ed37c-2c2f-48e1-b48d-15441a050f0d",
   "metadata": {},
   "outputs": [],
   "source": [
    "# 튜플, 리스트 상호 변환\n",
    "myTuple = ( 10,20,30)\n",
    "myList = list(myTuple)\n",
    "myList.append(40)\n",
    "print('myList:',myList)\n",
    "myTuple = tuple(myList)\n",
    "print('myTuple:',myTuple)"
   ]
  },
  {
   "cell_type": "code",
   "execution_count": null,
   "id": "49a5f9b3-be49-4709-900d-2644ec2deae7",
   "metadata": {},
   "outputs": [],
   "source": []
  },
  {
   "cell_type": "markdown",
   "id": "7a038b4f",
   "metadata": {},
   "source": [
    "## 딕셔너리 dictionary \n",
    "* key:value 처럼 쌍의 형태로 이루어진 자료구조\n",
    "* 딕셔너리는 중괄호(<font color=blue><b>{ }</b></font>)로 묶여 있음\n",
    "  > 딕셔너리변수  = { 키1:값1, 키2:값2, 키3:값3, ... }  \n",
    "\n",
    "  "
   ]
  },
  {
   "cell_type": "code",
   "execution_count": null,
   "id": "a3e925ca",
   "metadata": {},
   "outputs": [],
   "source": [
    "# 딕셔너리 만들기\n",
    "dic1 = {'name':'hong','phone':'01234','birth':'1225'}\n",
    "dic1"
   ]
  },
  {
   "cell_type": "code",
   "execution_count": null,
   "id": "bd666970",
   "metadata": {},
   "outputs": [],
   "source": [
    "# 원소 추가\n",
    "dic1[1] = 'cat'\n",
    "dic1[2] = 'dog'\n",
    "dic1"
   ]
  },
  {
   "cell_type": "code",
   "execution_count": null,
   "id": "021b843c",
   "metadata": {},
   "outputs": [],
   "source": [
    "# 원소 삭제\n",
    "del dic1[2]\n",
    "dic1"
   ]
  },
  {
   "cell_type": "code",
   "execution_count": null,
   "id": "92083dd4",
   "metadata": {},
   "outputs": [],
   "source": [
    "# 원소의 값 구하기\n",
    "dic1['phone']"
   ]
  },
  {
   "cell_type": "code",
   "execution_count": null,
   "id": "bc21887c",
   "metadata": {},
   "outputs": [],
   "source": [
    "# 딕셔너리 자료형의 key 리스트 만들기\n",
    "dic1.keys()"
   ]
  },
  {
   "cell_type": "code",
   "execution_count": null,
   "id": "faf06771-c47c-4a79-b44b-a2d5c6d93c1d",
   "metadata": {},
   "outputs": [],
   "source": [
    "# 딕셔너리 자료형의 value 리스트 만들기\n",
    "dic1.values()"
   ]
  },
  {
   "cell_type": "code",
   "execution_count": null,
   "id": "6bb465d6-fad4-4c29-a90b-16ca80e0077e",
   "metadata": {},
   "outputs": [],
   "source": [
    "# 딕셔너리 자료형의 key,value쌍 구하기\n",
    "dic1.items()"
   ]
  },
  {
   "cell_type": "code",
   "execution_count": null,
   "id": "f4e0c33d-08e7-43b1-8f40-fb1b339e96c1",
   "metadata": {},
   "outputs": [],
   "source": [
    "# 딕셔너리 자료형의 개수 구하기\n",
    "len(dic1)"
   ]
  },
  {
   "cell_type": "code",
   "execution_count": null,
   "id": "7a0861c9-9a3f-4ead-a05b-86d2dd0f1188",
   "metadata": {},
   "outputs": [],
   "source": [
    "# 딕셔너리에 접근하기\n",
    "empDict = {'사번':1000, '이름':'홍길동', '부서':'케이팝'}\n",
    "print(empDict['사번'])\n",
    "print(empDict['이름'])\n",
    "print(empDict['부서'])"
   ]
  },
  {
   "cell_type": "code",
   "execution_count": null,
   "id": "ad300837-591a-4c7b-9418-713ac8193702",
   "metadata": {},
   "outputs": [],
   "source": [
    "# 딕셔너리 안에 키가 있는지 확인\n",
    "'이름' in empDict"
   ]
  },
  {
   "cell_type": "code",
   "execution_count": null,
   "id": "a33d4b8b-fafe-491c-ba4a-c86a4c6e216c",
   "metadata": {},
   "outputs": [],
   "source": [
    "'주소' in empDict"
   ]
  },
  {
   "cell_type": "code",
   "execution_count": null,
   "id": "0f8c3ba3-f80a-4c83-a6aa-78446eda281f",
   "metadata": {},
   "outputs": [],
   "source": [
    "# for 루프에서 딕셔너리 활용 예\n",
    "for key in empDict.keys():\n",
    "    print(key, empDict[key])"
   ]
  },
  {
   "attachments": {
    "e19f6751-62f4-4a41-bedd-4c256796c18e.png": {
     "image/png": "[encoded data removed]"
    }
   },
   "cell_type": "markdown",
   "id": "cafc4bea-cdb2-42b1-9318-09148eaa77d0",
   "metadata": {},
   "source": [
    "## [실습] 리스트,튜플 활용하기\n",
    "  \n",
    "<span style=\"size:17px;font-color:blue;\"> 거북이 50마리를 생성하여 화면 중앙에서 사방으로 나아가며 선을 그리는 프로그램 작성<br>\n",
    "(조건) <br>\n",
    "* 거북이 한 마리는 다음과 같은 정보를 튜플로 생성할 것<br>\n",
    "* (모양, X위치, Y위치, 선색상)<br>    \n",
    "* 모양 바꾸기: 거북이, 원, 사각형, 삼각형 등이 있음<br>\n",
    "* X와 Y위치는 화면 중앙에서 선을 그리면서 이동<br>\n",
    "* 선 색상은 거북이가 그릴 선의 색상임<br>\n",
    "* 거북이 50마리를 리스트로 저장<br>\n",
    "</span>\n",
    "\n",
    "\n",
    "![image.png](attachment:e19f6751-62f4-4a41-bedd-4c256796c18e.png)  \n"
   ]
  },
  {
   "cell_type": "code",
   "execution_count": 3,
   "id": "2d32c5c1-2c79-42a5-8cb8-d43855716b7d",
   "metadata": {
    "tags": []
   },
   "outputs": [],
   "source": [
    "# 실습\n",
    "# 리스트, 튜플 활용하기\n",
    "import turtle\n",
    "import random\n",
    "\n",
    "turtleList = [ ]\n",
    "colorList = [\"red\", \"green\", \"blue\", \"black\", \"magenta\", \"orange\", \"gray\" , \"purple\", \"pink\", \"lightgreen\"]\n",
    "shapeList = [\"arrow\", \"circle\", \"square\", \"triangle\", \"turtle\"]\n",
    "\n",
    "turtle.setup(550, 550)\n",
    "turtle.screensize(500, 500)\n",
    "\n",
    "for i in range(0, 50) : # 거북이 50마리 생성\n",
    "    shape = random.choice(shapeList)\n",
    "    color = random.choice(colorList)\n",
    "    x = random.randint(-250, 250)\n",
    "    y = random.randint(-250, 250)\n",
    "    myTurtle = turtle.Turtle(shape)\n",
    "    tup = (myTurtle, color, x, y)\n",
    "    turtleList.append(tup)\n",
    "\n",
    "for tup in turtleList : # 리스트에 담긴 거북이 50마리 그리기\n",
    "    myTurtle = tup[0]\n",
    "    myTurtle.pencolor( tup[1] )\n",
    "    myTurtle.goto(tup[2], tup[3])\n",
    "\n",
    "turtle.exitonclick( )"
   ]
  },
  {
   "cell_type": "code",
   "execution_count": null,
   "id": "06a9c621-fcab-49b9-8b47-412751fbd520",
   "metadata": {},
   "outputs": [],
   "source": []
  }
 ],
 "metadata": {
  "kernelspec": {
   "display_name": "Python 3 (ipykernel)",
   "language": "python",
   "name": "python3"
  },
  "language_info": {
   "codemirror_mode": {
    "name": "ipython",
    "version": 3
   },
   "file_extension": ".py",
   "mimetype": "text/x-python",
   "name": "python",
   "nbconvert_exporter": "python",
   "pygments_lexer": "ipython3",
   "version": "3.9.2rc1"
  }
 },
 "nbformat": 4,
 "nbformat_minor": 5
}
