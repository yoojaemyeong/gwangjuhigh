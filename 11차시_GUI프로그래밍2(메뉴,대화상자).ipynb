{
 "cells": [
  {
   "attachments": {
    "9e7cf03e-f9e0-48b1-be77-0d57f2f63821.png": {
     "image/png": "[encoded data removed]"
    }
   },
   "cell_type": "markdown",
   "id": "ddf696a7-8619-401d-84be-a520c25db35a",
   "metadata": {},
   "source": [
    "# GUI프로그래밍 - menu\n",
    "* 메뉴\n",
    "\n",
    "   ![image.png](attachment:9e7cf03e-f9e0-48b1-be77-0d57f2f63821.png)\n",
    "  \n",
    "* 메뉴 진행 절차\n",
    "1. 메뉴 = Menu(윈도우)\n",
    "2. 윈도우.config(menu=메뉴)\n",
    "3. 상위메뉴 = Menu(메뉴)\n",
    "4. 메뉴.add_cascade(label=\"파일\",menu=상위메뉴)\n",
    "5. 상위메뉴.add_command(label=\"새로만들기\",command=함수1)\n",
    "6. 상위메뉴.add_command(label=\"열기\",command=함수2)\n",
    "7. 상위메뉴.add_command(label=\"저장\",command=함수3)\n",
    "8. 상위메뉴.add_separator()\n",
    "9. 상위메뉴.add_command(label=\"종료\",command=함수4)\n"
   ]
  },
  {
   "cell_type": "code",
   "execution_count": 2,
   "id": "6e941317-0e8a-4395-8716-1b45ab83326e",
   "metadata": {
    "tags": []
   },
   "outputs": [],
   "source": [
    "# 메뉴 생성 예\n",
    "from tkinter import *\n",
    "from tkinter import messagebox as msgbox\n",
    "#함수구현\n",
    "def func1():\n",
    "    msgbox.showinfo('파일','새로만들기 클릭')\n",
    "def func2():\n",
    "    msgbox.showinfo('파일','열기 클릭')\n",
    "def func3():\n",
    "    msgbox.showinfo('파일','저장 클릭')\n",
    "def func4():\n",
    "    win.quit()\n",
    "    win.destroy()    \n",
    "\n",
    "#메인함수구현: Entry Point\n",
    "if __name__ == '__main__':\n",
    "    win = Tk()\n",
    "    win.title('메뉴만들기')\n",
    "\n",
    "    mainMenu = Menu(win)\n",
    "    win.config(menu=mainMenu)\n",
    "    fileMenu=Menu(mainMenu)\n",
    "    mainMenu.add_cascade(label='파일',menu=fileMenu)\n",
    "    fileMenu.add_command(label='새로만들기',command=func1)\n",
    "    fileMenu.add_command(label='열기',command=func2)\n",
    "    fileMenu.add_command(label='저장',command=func3)\n",
    "    fileMenu.add_separator()\n",
    "    fileMenu.add_command(label='종료',command=func4)\n",
    "       \n",
    "    win.mainloop()"
   ]
  },
  {
   "cell_type": "code",
   "execution_count": 4,
   "id": "43e50274-c0b0-4e4b-81d9-fbf3f2b5e0d3",
   "metadata": {
    "tags": []
   },
   "outputs": [],
   "source": [
    "# 메뉴 추가 생성 예\n",
    "from tkinter import *\n",
    "from tkinter import messagebox as msgbox\n",
    "#함수구현\n",
    "def func1():\n",
    "    msgbox.showinfo('파일','새로만들기 클릭')\n",
    "def func2():\n",
    "    msgbox.showinfo('파일','열기 클릭')\n",
    "def func3():\n",
    "    msgbox.showinfo('파일','저장 클릭')\n",
    "def func4():\n",
    "    win.quit()\n",
    "    win.destroy()    \n",
    "def func5():\n",
    "    msgbox.showinfo('편집','전체선택')\n",
    "def func6():\n",
    "    msgbox.showinfo('편집','감추기')\n",
    "def func7():\n",
    "    msgbox.showinfo('편집','삭제')\n",
    "    \n",
    "#메인함수구현: Entry Point\n",
    "if __name__ == '__main__':\n",
    "    win = Tk()\n",
    "    win.title('메뉴만들기')\n",
    "    #메뉴만들기\n",
    "    mainMenu = Menu(win)\n",
    "    win.config(menu=mainMenu)\n",
    "    #파일\n",
    "    fileMenu=Menu(mainMenu)\n",
    "    mainMenu.add_cascade(label='파일',menu=fileMenu)\n",
    "    fileMenu.add_command(label='새로만들기',command=func1)\n",
    "    fileMenu.add_command(label='열기',command=func2)\n",
    "    fileMenu.add_command(label='저장',command=func3)\n",
    "    fileMenu.add_separator()\n",
    "    fileMenu.add_command(label='종료',command=func4)\n",
    "    #편집\n",
    "    editMenu=Menu(mainMenu)\n",
    "    mainMenu.add_cascade(label='편집',menu=editMenu)\n",
    "    editMenu.add_command(label='전체선택',command=func5)\n",
    "    editMenu.add_command(label='감추기',command=func6)\n",
    "    editMenu.add_command(label='삭제',command=func7)\n",
    "       \n",
    "    win.mainloop()"
   ]
  },
  {
   "attachments": {},
   "cell_type": "markdown",
   "id": "8c774782-bad6-4be0-9472-c1f295d683c8",
   "metadata": {},
   "source": [
    "## 대화상자\n",
    "* 사용자와 상호작용을 위한 창(입력 요청 또는 정보 보여주기 등)\n",
    "  \n",
    "* 입력 요청 대화상자  \n",
    ">  tkinter.simpledialog 모듈  \n",
    ">  정수 입력 요청: askinteger() 함수  \n",
    ">  실수 입력 요청: askfloat() 함수  \n",
    ">  문자열 입력 요청: askstring() 함수  \n"
   ]
  },
  {
   "cell_type": "code",
   "execution_count": 7,
   "id": "3144a05d-2d54-404b-a21a-158a5585c039",
   "metadata": {
    "tags": []
   },
   "outputs": [],
   "source": [
    "# 입력 요청 대화상자\n",
    "from tkinter import *\n",
    "from tkinter.simpledialog import *\n",
    "\n",
    "win = Tk()\n",
    "win.title('입력 요청 대화상자')\n",
    "win.geometry(\"300x300\")\n",
    "\n",
    "lbl1 = Label(win, text='[입력된 표시]: ', font=('굴림',15))\n",
    "lbl1.pack(side=LEFT)\n",
    "lbl2 = Label(win, text='', font=('굴림',15))\n",
    "lbl2.pack(side=LEFT)\n",
    "v1 = askinteger(\"숫자입력\", \"1 ~ 100중에 좋아하는 숫자를 입력하세요\",minvalue=1, maxvalue=100)\n",
    "lbl2.configure(text=str(v1))\n",
    "\n",
    "win.mainloop()"
   ]
  },
  {
   "cell_type": "markdown",
   "id": "dadc76c1-de1d-44fc-83b5-312f0c60412d",
   "metadata": {
    "tags": []
   },
   "source": [
    "## 파일 열기 및 저장 대화상자\n",
    "* 모듈: tkinter.filedialog\n",
    "* 함수\n",
    "  > askopenfilename() 함수  \n",
    "  > asksavefilename() 함수 "
   ]
  },
  {
   "cell_type": "code",
   "execution_count": 9,
   "id": "094f33fa-d541-4a3d-aea0-04ca2c6b3210",
   "metadata": {
    "tags": []
   },
   "outputs": [],
   "source": [
    "# 파일 열기 대화상자\n",
    "from tkinter import *\n",
    "from tkinter.filedialog import *\n",
    "\n",
    "win = Tk()\n",
    "win.geometry(\"200x200\")\n",
    "\n",
    "label1 = Label(win, text=\"선택한 파일이름:\", font=(\"굴림\",12),fg=\"blue\")\n",
    "label1.pack(side=LEFT)\n",
    "label2 = Label(win, text=\"\", font=(\"굴림\",12), fg=\"green\")\n",
    "label2.pack(side=LEFT)\n",
    "filename = askopenfilename(parent=win,filetypes=((\"JPG파일\",\"*.jpg\"),(\"모든 파일\",\"*.*\")))\n",
    "label2.configure(text=filename)\n",
    "\n",
    "win.mainloop()"
   ]
  },
  {
   "cell_type": "code",
   "execution_count": 12,
   "id": "5fc20668-60f7-4ece-9f3a-edd412da6338",
   "metadata": {
    "tags": []
   },
   "outputs": [],
   "source": [
    "# 파일 저장 대화상자\n",
    "from tkinter import *\n",
    "from tkinter.filedialog import *\n",
    "\n",
    "win = Tk()\n",
    "win.geometry(\"200x200\")\n",
    "\n",
    "label1 = Label(win, text=\"저장한 파일이름:\", font=(\"굴림\",12),fg=\"blue\")\n",
    "label1.pack(side=LEFT)\n",
    "label2 = Label(win, text=\"\", font=(\"굴림\",12), fg=\"green\")\n",
    "label2.pack(side=LEFT)\n",
    "savefilename = asksaveasfilename(parent=win,filetypes=((\"JPG파일\",\"*.jpg\"),(\"모든 파일\",\"*.*\")))\n",
    "label2.configure(text=savefilename)\n",
    "\n",
    "win.mainloop()"
   ]
  },
  {
   "cell_type": "code",
   "execution_count": 14,
   "id": "ca6d1a6e-9c85-469b-9ae0-142e38bd402e",
   "metadata": {
    "tags": []
   },
   "outputs": [],
   "source": [
    "# (문제) 사용자가 입력한 확장명의 파일만 선택하는 파일 열기 대화상자 나타내기\n",
    "from tkinter import *\n",
    "from tkinter.simpledialog import *   # askstring() 함수\n",
    "from tkinter.filedialog import *     # askopenfilename() 함수\n",
    "\n",
    "## 메인 코드부\n",
    "win = Tk()\n",
    "win.geometry('500x200')\n",
    "win.title('선택한 확장명의 파일열기')\n",
    "\n",
    "label1 = Label(win, text=\"선택한 확장명:\", font=(\"굴림\",12),fg=\"blue\")\n",
    "label1.pack(side=TOP)\n",
    "label2 = Label(win, text=\"\", font=(\"굴림\",12), fg=\"green\")\n",
    "label2.pack(side=TOP)\n",
    "# 확장명 선택\n",
    "extname = askstring(\"파일 확장명 입력\",\"파일 확장명 jpg, png, zip, txt, hwp 중 하나를 입력하세요\")\n",
    "label2.configure(text=extname)\n",
    "\n",
    "label3 = Label(win, text=\"선택한 파일명:\", font=(\"굴림\",12), fg=\"blue\")\n",
    "label3.pack(side=TOP)\n",
    "label4 = Label(win, text=\"\", font=(\"굴림\",12), fg=\"green\")\n",
    "label4.pack(side=TOP)\n",
    "# 파일명 선택\n",
    "filename=askopenfilename(parent=win,filetypes=((\"선택한확장명파일열기\",f'*.{extname}'),(\"모든파일\",\"*.*\")))\n",
    "label4.configure(text=filename)\n",
    "\n",
    "win.mainloop()\n"
   ]
  },
  {
   "cell_type": "markdown",
   "id": "45ac12cf-1b04-4669-872b-9495bd3575e3",
   "metadata": {},
   "source": [
    "## GUI 활용  \n",
    "<font color=red><b>구현 조건</b></font>  \n",
    "- turtle, tkinter.simpledialog, random 모듈을 활용\n",
    "- [모양, 크기, 펜색상]에 관한 값은 대화상자를 이용\n",
    "- 랜덤한 위치 생성\n",
    "- 이동한 위치에서 지름이 50인 동그라미를 그리기\n",
    "- 파일메뉴를 생성하고, 종료를 통해 프로그램 종료\n",
    "  \n",
    "* 사용모듈\n",
    "  > import turtle  \n",
    "  > from tkinter.simpledialog import *  \n",
    "  > import random  \n",
    "* 모양 종류: turtle.shape('turtle')\n",
    "  > turtle(거북이), circle(●), square(■), triangle(▶), arrow, classic\n",
    "* 모양 크기: turtle.shapesize(너비, 길이, 외곽선) , 기본크기는 1,1,1\n",
    "  > turtle.shapesize(10,1,1)  \n",
    "  > turtle.shapesize(1,10,1)  \n",
    "  > turtle.shapesize(1,1,10)\n",
    "* 펜색상: turtle.pencolor(색상)\n",
    "  > red, blue, yellow, black, white, violet, green\n",
    "* 랜덤 정수 발생: random.randint(1,300)\n",
    "  > x, y 범위: -300 ~ 300"
   ]
  },
  {
   "cell_type": "code",
   "execution_count": 1,
   "id": "ae680a7f-4776-4553-81a4-e6911e5f7225",
   "metadata": {},
   "outputs": [],
   "source": [
    "# 3번 반복하여 모양, 색상, 크기 입력값을 통해 랜덤한 위치에 지름이 50인 동그라미 그리기\n",
    "import turtle\n",
    "#from tkinter import *\n",
    "from tkinter.simpledialog import *\n",
    "import random\n",
    "#함수구현\n",
    "def func():\n",
    "    win.quit()\n",
    "    win.destroy()  \n",
    "\n",
    "# 메인코드 : Entry Point\n",
    "if __name__ == '__main__':        \n",
    "    # tkinter 활용하여 askstring, askinteger 함수 활용\n",
    "    win = Tk()    \n",
    "    win.title('GUI활용')\n",
    "    #메뉴 만들기\n",
    "    mainMenu = Menu(win)\n",
    "    win.config(menu=mainMenu)\n",
    "    fileMenu=Menu(mainMenu)\n",
    "    mainMenu.add_cascade(label='파일',menu=fileMenu)\n",
    "    fileMenu.add_command(label='종료',command=func)\n",
    "    \n",
    "    for i in range(3):\n",
    "        shape = askstring(\"모양선택\", \"turtle,circle,square,triangle,arrow,classic 중 하나 입력\")\n",
    "        color = askstring(\"색상선택\", \"red,blue,yellow,black,white,violet,green 중 하나 입력\")\n",
    "        size = askinteger(\"크기선택\", \"크기영역(1~10)\", minvalue=1,maxvalue=10)        \n",
    "        x=random.randint(1,300)\n",
    "        y=random.randint(1,300)\n",
    "        if x%2 == 1:\n",
    "            x = -x\n",
    "        if y%2 == 1:\n",
    "            y = -y                   \n",
    "            \n",
    "        # turtle 윈도우로 실행\n",
    "        turtle.shape(shape)\n",
    "        turtle.pencolor(color)\n",
    "        turtle.shapesize(size,size,size)\n",
    "        turtle.penup()\n",
    "        turtle.goto(x,y)\n",
    "        turtle.pendown()\n",
    "        turtle.circle(60)\n",
    "        \n",
    "    turtle.exitonclick()    "
   ]
  },
  {
   "cell_type": "code",
   "execution_count": null,
   "id": "5bde3ae3-9281-4579-8104-f05f14f187d5",
   "metadata": {},
   "outputs": [],
   "source": []
  }
 ],
 "metadata": {
  "kernelspec": {
   "display_name": "Python 3 (ipykernel)",
   "language": "python",
   "name": "python3"
  },
  "language_info": {
   "codemirror_mode": {
    "name": "ipython",
    "version": 3
   },
   "file_extension": ".py",
   "mimetype": "text/x-python",
   "name": "python",
   "nbconvert_exporter": "python",
   "pygments_lexer": "ipython3",
   "version": "3.9.2rc1"
  }
 },
 "nbformat": 4,
 "nbformat_minor": 5
}
