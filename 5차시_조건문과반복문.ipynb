{
 "cells": [
  {
   "cell_type": "markdown",
   "id": "c01d6670-cecd-41c4-b1a2-934819736796",
   "metadata": {},
   "source": [
    "## 조건문\n",
    "- 조건문은 참(True) 또는 거짓(False)을 판별하는 문장  \n",
    "- if, if-else, if-elif-else 문이 있음\n",
    "\n",
    "<hr width=300px align=left>  \n",
    "1. if문, if-else문  \n",
    "<hr width=300px align=left>  \n",
    "    \n",
    "```python\n",
    "a = 123\n",
    "a1,a2 = divmod(a,2)\n",
    "if a2==1:\n",
    "    print('홀수')\n",
    "else:\n",
    "    print('짝수')\n",
    "```\n",
    "\n",
    "<hr width=300px align=left>   \n",
    "2. if-elif-else문  \n",
    "<hr width=300px align=left>   \n",
    "\n",
    "```python\n",
    "a='빨강'\n",
    "if a=='파랑':\n",
    "    print('청사과')\n",
    "elif a=='노랑':\n",
    "    print('레몬 또는 바나나')\n",
    "elif a=='빨강':\n",
    "    print('사과')\n",
    "else:\n",
    "    print('잘모름')\n",
    "\n",
    "```\n",
    "<hr width=300px align=left> "
   ]
  },
  {
   "cell_type": "code",
   "execution_count": null,
   "id": "69c6060a-7ba9-4b0d-80d9-43f85d17870c",
   "metadata": {},
   "outputs": [],
   "source": [
    "#코드 \n",
    "score=input('운전면허 점수?')\n",
    "if score >= 70:\n",
    "    print('합격')\n",
    "else:\n",
    "    print('불합격')    "
   ]
  },
  {
   "cell_type": "code",
   "execution_count": null,
   "id": "4d88320b-0532-4e7e-9fdf-55df8a3dd3d6",
   "metadata": {},
   "outputs": [],
   "source": [
    "#코드\n",
    "a='빨강'\n",
    "if a=='파랑':\n",
    "    print('청사과')\n",
    "elif a=='노랑':\n",
    "    print('레몬 또는 바나나')\n",
    "elif a=='빨강':\n",
    "    print('사과')\n",
    "else:\n",
    "    print('잘모름')\n"
   ]
  },
  {
   "cell_type": "markdown",
   "id": "2cabddd3-2c20-418d-99f6-6bda187529fe",
   "metadata": {},
   "source": [
    "## 조건식(비교연산자, 논리연산자, in, pass ) \n",
    "* 비교연산자: ==, !=, >, <, >=, <=\n",
    "* 예로,\n",
    "> 2 > 1 이면 True  \n",
    "> 2 == 3 이면 False  \n",
    "> 2 <= 3 이면 True\n",
    "      \n",
    "* 논리연산자: and, or, not  \n",
    "* 예로,\n",
    "> money = 1500  \n",
    "> if money >=1200 <font color=blue><b>and</b></font> money <= 3000:  \n",
    "> &nbsp;&nbsp;&nbsp;&nbsp;print('버스 승차권 구입 가능')\n",
    "\n",
    "* 그룹자료형의 원소인지 검사하기: x <font color=blue><b>in</b></font> [리스트, 튜플, 문자열]  \n",
    "* 예로,\n",
    "> x = 1  \n",
    "> <b>x <font color=red>in</font> [1,2,3]</b>  \n",
    "> <font color=blue>True</font>    \n",
    "> <b>x <font color=red>not in</font> [1,2,3]</b>  \n",
    "> <font color=blue>False</font>    \n",
    "> <b>'a' <font color=red>in</font> ('a', 'b', 'c', 'd')</b>  \n",
    "> <font color=blue>True</font>    \n",
    "> <b>'i' <font color=red>not in</font> 'Python'</b>  \n",
    "> <font color=blue>True</font>    \n",
    "  \n",
    "* 아무것도 하지 않게 설정: <b>pass</b>\n",
    "> money = 5  \n",
    "> if money < 10:  \n",
    "> &nbsp;&nbsp;&nbsp;&nbsp;<font color=blue>pass</font>  \n",
    "> else:  \n",
    "> &nbsp;&nbsp;&nbsp;&nbsp;print('저축하기')  "
   ]
  },
  {
   "cell_type": "code",
   "execution_count": null,
   "id": "fe591aae-0c10-434a-a8d0-4d047c7838ce",
   "metadata": {},
   "outputs": [],
   "source": []
  },
  {
   "cell_type": "markdown",
   "id": "c9e1113a-35c2-4535-85d7-902f5432b891",
   "metadata": {},
   "source": [
    "# 반복문 : for문\n",
    "## for\n",
    "  \n",
    "<hr width=400px align=left>  \n",
    "\n",
    "```python \n",
    "test_list = ['one','two', 'three']\n",
    "for i in test_list:\n",
    "    x = i + ' !'\n",
    "    print(x)\n",
    "\n",
    "```\n",
    "<hr width=400px align=left>  \n",
    "결과:<br>   \n",
    "one !<br> \n",
    "two !<br>  \n",
    "three !  \n",
    "<hr width=400px align=left>  \n",
    "\n",
    "```python \n",
    "number = 0\n",
    "for score in [90,25,67,45,93]:\n",
    "    number += 1\n",
    "    if score >= 60: \n",
    "        print('%d번 : 합격' % number)\n",
    "    else:\n",
    "        print('%d번 : 불합격' % number)\n",
    "\n",
    "```\n",
    "<hr width=400px align=left>  "
   ]
  },
  {
   "cell_type": "markdown",
   "id": "1470ee53-9b59-40b5-b1a8-f8826f7c252a",
   "metadata": {},
   "source": [
    "### for문을 이용한 리스트 생성"
   ]
  },
  {
   "cell_type": "code",
   "execution_count": null,
   "id": "0283e9e5-70e0-41f2-94b6-ac133e98c3ec",
   "metadata": {},
   "outputs": [],
   "source": [
    "[2 * i for i in range(5)]"
   ]
  },
  {
   "cell_type": "code",
   "execution_count": null,
   "id": "0c318efc-3b89-4dfd-b6e8-687429671e81",
   "metadata": {},
   "outputs": [],
   "source": [
    "[i for i in range(10) if i % 2 == 0]"
   ]
  },
  {
   "cell_type": "code",
   "execution_count": null,
   "id": "001f4369-2ea9-4322-9f8d-37f6f3a7173d",
   "metadata": {},
   "outputs": [],
   "source": [
    "[i if i%2 == 0 else 1 for i in range(10)]"
   ]
  },
  {
   "cell_type": "markdown",
   "id": "04446d39-3430-478b-828d-f83d27ab1111",
   "metadata": {},
   "source": [
    "# 반복문 : while문\n",
    "\n",
    "<hr width=400px align=left>  \n",
    "\n",
    "## while  \n",
    "<hr width=400px align=left>  \n",
    "\n",
    "```python \n",
    "i = 0\n",
    "while i < 5:\n",
    "    i += 1\n",
    "    print('*' * i)\n",
    "\n",
    "```\n",
    "<hr width=400px align=left>  \n"
   ]
  },
  {
   "cell_type": "code",
   "execution_count": 9,
   "id": "e3720de4-9196-498f-ad92-2f6baf99e7ba",
   "metadata": {},
   "outputs": [
    {
     "name": "stdout",
     "output_type": "stream",
     "text": [
      "*\n",
      "**\n",
      "***\n",
      "****\n",
      "*****\n"
     ]
    }
   ],
   "source": [
    "i = 0\n",
    "while i < 5:\n",
    "    i += 1\n",
    "    print('*' * i)\n"
   ]
  },
  {
   "attachments": {
    "85b01883-d68c-4499-a285-7d02a192e2c8.png": {
     "image/png": "[encoded data removed]"
    }
   },
   "cell_type": "markdown",
   "id": "1390f200-b8c1-4091-aef8-e9946dc61fa3",
   "metadata": {},
   "source": [
    "# [실전] 거북이 길들이기\n",
    "\n",
    "> 거북이는 사춘기를 겪느라 언제 어디로 튈지 몰라서 그대로 둔다면 화면 밖으로 나가고자 한다. 사춘기를 겪는 거북이가 화면 안에서 노는 것은 그대로 두고, 화면 밖으로 나간다면 다시 화면의 중심으로 데려오자.  \n",
    "> - 거북이가 활동할 화면의 크기는 (300, 300)으로 지정  \n",
    "> - 중앙(0, 0)에서 거북이의 활동 공간은 가로(-150 ~ 150), 세로(-150 ~ 150)  \n",
    "> - 거북이 위치가 활동 공간안에 있으면 그대로 두고, 밖으로 나가면 중앙(0, 0) 위치로 데려다 놓기\n",
    "\n",
    "![image.png](attachment:85b01883-d68c-4499-a285-7d02a192e2c8.png)  "
   ]
  },
  {
   "cell_type": "code",
   "execution_count": null,
   "id": "b0725154-d257-4fb9-bc6c-6a69f5280eab",
   "metadata": {},
   "outputs": [],
   "source": [
    "#코드\n",
    "import turtle\n",
    "import random\n",
    "\n",
    "turtle.shape(\"turtle\")\n",
    "turtle.pensize(5)\n",
    "turtle.pencolor(\"blue\")\n",
    "\n",
    "turtle.screensize(canvwidth=300,canvheight=300) #해상도 크기\n",
    "turtle.setup(330,330) #초기화면\n",
    "\n",
    "while True :\n",
    "    angle = random.randint(0, 360)\n",
    "    distance = random.randint(10, 100)\n",
    "    turtle.right(angle)\n",
    "    turtle.forward(distance)\n",
    "    curX = turtle.xcor( )\n",
    "    curY = turtle.ycor( )\n",
    "    if (curX >= -150 and curX <= 150) and (curY >= -150 and curY <= 150) :\n",
    "        print(\"Good Boy~\")\n",
    "    else :\n",
    "        turtle.goto( 0, 0 )\n",
    "\n",
    "turtle.exitonclick()\n"
   ]
  }
 ],
 "metadata": {
  "kernelspec": {
   "display_name": "Python 3 (ipykernel)",
   "language": "python",
   "name": "python3"
  },
  "language_info": {
   "codemirror_mode": {
    "name": "ipython",
    "version": 3
   },
   "file_extension": ".py",
   "mimetype": "text/x-python",
   "name": "python",
   "nbconvert_exporter": "python",
   "pygments_lexer": "ipython3",
   "version": "3.9.2rc1"
  }
 },
 "nbformat": 4,
 "nbformat_minor": 5
}
